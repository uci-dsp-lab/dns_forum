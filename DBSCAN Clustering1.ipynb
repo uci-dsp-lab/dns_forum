{
 "cells": [
  {
   "cell_type": "code",
   "execution_count": 1,
   "id": "2bbbed78",
   "metadata": {},
   "outputs": [],
   "source": [
    "from sklearn.feature_extraction.text import TfidfVectorizer\n",
    "import pandas as pd\n",
    "import matplotlib.pyplot as plt\n",
    "import numpy as np\n",
    "import matplotlib.cm as cm\n",
    "from collections import defaultdict\n",
    "\n",
    "import nltk\n",
    "from nltk.corpus import stopwords\n",
    "from nltk.stem import WordNetLemmatizer\n",
    "import random"
   ]
  },
  {
   "cell_type": "code",
   "execution_count": 2,
   "id": "f784fc88",
   "metadata": {},
   "outputs": [],
   "source": [
    "lemmatizer = WordNetLemmatizer()\n",
    "\n",
    "def lemma(word):\n",
    "    word = word.strip()\n",
    "    \n",
    "    safe = [\"ns\"]\n",
    "    if word in safe:\n",
    "        return word\n",
    "    \n",
    "    noun = lemmatizer.lemmatize(word)\n",
    "    if noun != word:\n",
    "        return noun\n",
    "\n",
    "    adjective = lemmatizer.lemmatize(word, pos=\"a\")\n",
    "    if adjective != word:\n",
    "        return adjective\n",
    "\n",
    "    verb = lemmatizer.lemmatize(word, pos=\"v\")\n",
    "    if verb != word:\n",
    "        return verb\n",
    "\n",
    "    return word\n",
    "\n",
    "stopwordDict = defaultdict(int)\n",
    "for sw in stopwords.words(\"english\"):\n",
    "    stopwordDict[sw] += 1"
   ]
  },
  {
   "cell_type": "code",
   "execution_count": 18,
   "id": "e0f9d9fb",
   "metadata": {},
   "outputs": [
    {
     "name": "stdout",
     "output_type": "stream",
     "text": [
      "12145\n"
     ]
    }
   ],
   "source": [
    "import pymongo\n",
    "\n",
    "client = pymongo.MongoClient(host=\"128.195.180.83\",\n",
    "                             port=27939,\n",
    "                             username=\"db_viewer\",\n",
    "                             password=\"ucidsplab_dbviewer\"\n",
    "                             )\n",
    "db = client.cloudflare_crawled_data\n",
    "\n",
    "vocab = {}\n",
    "\n",
    "corpus, corpus_index, url_list = [], [], []\n",
    "startPage, endPage = 100, 1354\n",
    "\n",
    "for i in range(startPage, endPage + 1):\n",
    "    col_name = \"purepage\" + str(i)\n",
    "    collection = db[col_name]\n",
    "    \n",
    "    for page in collection.find():\n",
    "        if not page[\"DNS_Related\"]:\n",
    "            continue\n",
    "        \n",
    "        if \"Other Languages\" in page[\"labels\"]:\n",
    "            continue\n",
    "            \n",
    "#         date = page[\"created_date\"].split(\",\")\n",
    "#         year = date[1][1:5]\n",
    "#         if year != \"2021\" and year != \"2020\":\n",
    "#             continue\n",
    "    \n",
    "        unclassified = True\n",
    "        if unclassified:\n",
    "            \n",
    "            unprocessed, processed = page[\"original_post\"], []\n",
    "            for word in unprocessed.split(\" \"):\n",
    "                lem = lemma(word.strip().lower())\n",
    "            \n",
    "                try:\n",
    "                    _ = int(lem)\n",
    "                    continue\n",
    "                except:\n",
    "                    pass\n",
    "                \n",
    "                if lem not in stopwordDict:\n",
    "                    flag = False\n",
    "                    for char in lem:\n",
    "                        if char < \"a\" or char > \"z\":\n",
    "                            flag = True\n",
    "                    if not flag:\n",
    "                        processed.append(lem)\n",
    "                        vocab[lem] = 1\n",
    "                        \n",
    "                    \n",
    "            corpus.append(\" \".join(processed))\n",
    "            corpus_index.append(page[\"title\"])\n",
    "            url_list.append(page[\"url\"])\n",
    "             \n",
    "print(len(corpus))"
   ]
  },
  {
   "cell_type": "code",
   "execution_count": 4,
   "id": "613b4569",
   "metadata": {},
   "outputs": [],
   "source": [
    "from sklearn.feature_extraction.text import CountVectorizer\n",
    "vocabList = vocab.keys()\n",
    "#cv1 = CountVectorizer(vocabulary=vocabList, analyzer = 'word', ngram_range=(1,2))\n",
    "cv1 = CountVectorizer(vocabulary=vocabList, analyzer = 'word')\n",
    "corpus_vocab_count_matrix = cv1.transform(corpus)"
   ]
  },
  {
   "cell_type": "code",
   "execution_count": 5,
   "id": "4481ed43",
   "metadata": {},
   "outputs": [
    {
     "data": {
      "text/plain": [
       "TfidfTransformer()"
      ]
     },
     "execution_count": 5,
     "metadata": {},
     "output_type": "execute_result"
    }
   ],
   "source": [
    "from sklearn.feature_extraction.text import TfidfTransformer\n",
    "tfidf_transformer = TfidfTransformer(smooth_idf=True, use_idf=True)\n",
    "tfidf_transformer.fit(corpus_vocab_count_matrix)"
   ]
  },
  {
   "cell_type": "code",
   "execution_count": 6,
   "id": "c7104d78",
   "metadata": {},
   "outputs": [
    {
     "name": "stdout",
     "output_type": "stream",
     "text": [
      "            idf-weights\n",
      "cloudflare     1.428240\n",
      "dns            1.610688\n",
      "domain         1.782482\n",
      "use            2.051258\n",
      "com            2.068365\n",
      "record         2.211908\n",
      "get            2.227520\n",
      "thank          2.256599\n",
      "work           2.262401\n",
      "server         2.291928\n"
     ]
    }
   ],
   "source": [
    "df_idf = pd.DataFrame(tfidf_transformer.idf_, index=cv1.get_feature_names(), columns=['idf-weights'])\n",
    "df_idf = df_idf.sort_values(by=['idf-weights'])\n",
    "print(df_idf.head(10))"
   ]
  },
  {
   "cell_type": "code",
   "execution_count": 7,
   "id": "b0670044",
   "metadata": {},
   "outputs": [],
   "source": [
    "articles_vocab_count_matrix = cv1.transform(corpus)\n",
    "tfidf_matrix = tfidf_transformer.transform(articles_vocab_count_matrix)"
   ]
  },
  {
   "cell_type": "code",
   "execution_count": 8,
   "id": "afd0050c",
   "metadata": {},
   "outputs": [
    {
     "name": "stdout",
     "output_type": "stream",
     "text": [
      "               tfidf\n",
      "cornell     0.455808\n",
      "edu         0.312971\n",
      "query       0.274808\n",
      "confluence  0.265888\n",
      "opt         0.252202\n",
      "contegix    0.237834\n",
      "flag        0.218305\n",
      "answer      0.196958\n",
      "est         0.149258\n",
      "dec         0.145079\n"
     ]
    }
   ],
   "source": [
    "tfidf_array = np.asarray(tfidf_matrix.todense())\n",
    "df = pd.DataFrame(tfidf_array[0], index=cv1.get_feature_names(), columns=['tfidf'])\n",
    "df_descending = df.sort_values(by=['tfidf'], ascending=False)\n",
    "print(df_descending.head(10))"
   ]
  },
  {
   "cell_type": "code",
   "execution_count": 9,
   "id": "9625e331",
   "metadata": {},
   "outputs": [],
   "source": [
    "from sklearn.metrics import pairwise_distances\n",
    "from scipy.spatial.distance import cosine\n",
    "distance_array = pairwise_distances(tfidf_array, metric='cosine')"
   ]
  },
  {
   "cell_type": "code",
   "execution_count": 10,
   "id": "5fc28744",
   "metadata": {},
   "outputs": [
    {
     "data": {
      "text/plain": [
       "array([[0.        , 0.9845829 , 0.97935953, ..., 0.93309942, 0.96729512,\n",
       "        1.        ],\n",
       "       [0.9845829 , 0.        , 0.95504505, ..., 0.8699352 , 0.92480941,\n",
       "        0.99177067],\n",
       "       [0.97935953, 0.95504505, 0.        , ..., 0.94786817, 0.91106483,\n",
       "        1.        ],\n",
       "       ...,\n",
       "       [0.93309942, 0.8699352 , 0.94786817, ..., 0.        , 0.98204333,\n",
       "        1.        ],\n",
       "       [0.96729512, 0.92480941, 0.91106483, ..., 0.98204333, 0.        ,\n",
       "        1.        ],\n",
       "       [1.        , 0.99177067, 1.        , ..., 1.        , 1.        ,\n",
       "        0.        ]])"
      ]
     },
     "execution_count": 10,
     "metadata": {},
     "output_type": "execute_result"
    }
   ],
   "source": [
    "distance_array"
   ]
  },
  {
   "cell_type": "code",
   "execution_count": 11,
   "id": "4ce5dca9",
   "metadata": {},
   "outputs": [],
   "source": [
    "#distance_array = StandardScaler().fit_transform(distance_array)"
   ]
  },
  {
   "cell_type": "code",
   "execution_count": 12,
   "id": "703b5cba",
   "metadata": {},
   "outputs": [],
   "source": [
    "import numpy as np\n",
    "\n",
    "from sklearn.cluster import DBSCAN\n",
    "from sklearn import metrics\n",
    "from sklearn.datasets import make_blobs\n",
    "from sklearn.preprocessing import StandardScaler\n",
    "\n",
    "clustering = DBSCAN(eps=0.6, min_samples=2).fit(distance_array)"
   ]
  },
  {
   "cell_type": "code",
   "execution_count": 13,
   "id": "45b03b2e",
   "metadata": {
    "scrolled": true
   },
   "outputs": [
    {
     "name": "stdout",
     "output_type": "stream",
     "text": [
      "[  39 9527]\n",
      "[  120  1219  1776  3116  4977  6466  6701  7503  7580  8313  8721  8864\n",
      " 10101]\n",
      "[306 307]\n",
      "[522 527]\n",
      "[523 528]\n",
      "[524 529]\n",
      "[525 530]\n",
      "[526 531]\n",
      "[651 652]\n",
      "[759 760]\n",
      "[ 964 9443]\n",
      "[976 977]\n",
      "[1044 1045]\n",
      "[1174 1175]\n",
      "[1267 1459]\n",
      "[1448 1449]\n",
      "[1503 1504]\n",
      "[1745 1746]\n",
      "[2025 2027]\n",
      "[ 2039  9813 11947]\n",
      "[2178 2183]\n",
      "[2200 7749]\n",
      "[2729 5499 6883]\n",
      "[2765 2766]\n",
      "[2877 8829]\n",
      "[3182 3183]\n",
      "[3275 3276]\n",
      "[3315 3316]\n",
      "[3855 3857]\n",
      "[4135 4136]\n",
      "[4262 4285]\n",
      "[4263 4286]\n",
      "[4264 4287]\n",
      "[4265 4288]\n",
      "[4266 4289]\n",
      "[4267 4290]\n",
      "[4268 4291]\n",
      "[4269 4292]\n",
      "[4270 4293]\n",
      "[4271 4294]\n",
      "[ 4362 10717 11642]\n",
      "[4547 4548]\n",
      "[4784 4788]\n",
      "[5378 5379]\n",
      "[5643 5644]\n",
      "[5657 5659]\n",
      "[5658 5660]\n",
      "[5975 5976]\n",
      "[5987 5990]\n",
      "[5988 5991]\n",
      "[5989 5992]\n",
      "[6138 6139]\n",
      "[6166 6167]\n",
      "[ 6213 11149]\n",
      "[6372 6598]\n",
      "[6382 6386]\n",
      "[6383 6387]\n",
      "[6384 6388]\n",
      "[6385 6389]\n",
      "[6468 6533]\n",
      "[6859 6860]\n",
      "[7109 7110]\n",
      "[7233 9775]\n",
      "[7372 7374]\n",
      "[7373 7375]\n",
      "[7602 7615]\n",
      "[7603 7616]\n",
      "[7604 7617]\n",
      "[7605 7618]\n",
      "[7606 7619]\n",
      "[7607 7620]\n",
      "[7608 7621]\n",
      "[7609 7622]\n",
      "[7610 7623]\n",
      "[7611 7624]\n",
      "[7612 7625]\n",
      "[7613 7626]\n",
      "[7614 7627]\n",
      "[7895 7896]\n",
      "[7937 7939]\n",
      "[8435 8436]\n",
      "[8455 8512]\n",
      "[8927 8928]\n",
      "[9797 9798]\n",
      "[10539 10541]\n",
      "[10730 10731]\n",
      "[10862 10864]\n",
      "[11092 11094]\n",
      "[11093 11095]\n",
      "[11480 11481]\n",
      "[11597 11615]\n",
      "[11643 11665]\n"
     ]
    }
   ],
   "source": [
    "for i in range(max(clustering.labels_)):\n",
    "    print(np.where(clustering.labels_==i)[0])"
   ]
  },
  {
   "cell_type": "code",
   "execution_count": 14,
   "id": "caca735f",
   "metadata": {},
   "outputs": [
    {
     "data": {
      "text/plain": [
       "array([-1, -1, -1, ..., -1, -1, -1], dtype=int64)"
      ]
     },
     "execution_count": 14,
     "metadata": {},
     "output_type": "execute_result"
    }
   ],
   "source": [
    "core_samples_mask = np.zeros_like(clustering.labels_, dtype=bool)\n",
    "core_samples_mask[clustering.core_sample_indices_] = True\n",
    "labels = clustering.labels_\n",
    "labels"
   ]
  },
  {
   "cell_type": "code",
   "execution_count": 15,
   "id": "2926ce87",
   "metadata": {},
   "outputs": [],
   "source": [
    "n_clusters_ = len(set(labels)) - (1 if -1 in labels else 0)\n",
    "n_noise_ = list(labels).count(-1)"
   ]
  },
  {
   "cell_type": "code",
   "execution_count": 16,
   "id": "d8806fa9",
   "metadata": {},
   "outputs": [
    {
     "data": {
      "image/png": "[encoded data removed]",
      "text/plain": [
       "<Figure size 432x288 with 1 Axes>"
      ]
     },
     "metadata": {
      "needs_background": "light"
     },
     "output_type": "display_data"
    }
   ],
   "source": [
    "import matplotlib.pyplot as plt\n",
    "unique_labels = set(labels)\n",
    "colors = [plt.cm.Spectral(each) for each in np.linspace(0, 1, len(unique_labels))]\n",
    "for k, col in zip(unique_labels, colors):\n",
    "    if k == -1:\n",
    "        # Black used for noise.\n",
    "        continue\n",
    "        col = [0, 0, 0, 1]\n",
    "\n",
    "    class_member_mask = labels == k\n",
    "\n",
    "    xy = distance_array[class_member_mask & core_samples_mask]\n",
    "    plt.plot(\n",
    "        xy[:,0],\n",
    "        xy[:,1],\n",
    "        \"o\",\n",
    "        markerfacecolor=tuple(col),\n",
    "        markeredgecolor=\"k\",\n",
    "        markersize=14,\n",
    "    )\n",
    "\n",
    "    xy = distance_array[class_member_mask & ~core_samples_mask]\n",
    "    plt.plot(\n",
    "        xy[:,0],\n",
    "        xy[:,1],\n",
    "        \"o\",\n",
    "        markerfacecolor=tuple(col),\n",
    "        markeredgecolor=\"k\",\n",
    "        markersize=6,\n",
    "    )\n",
    "\n",
    "plt.title(\"Estimated number of clusters: %d\" % n_clusters_)\n",
    "plt.show()"
   ]
  },
  {
   "cell_type": "code",
   "execution_count": 17,
   "id": "669561e0",
   "metadata": {},
   "outputs": [
    {
     "data": {
      "text/plain": [
       "-0.25143740388874547"
      ]
     },
     "execution_count": 17,
     "metadata": {},
     "output_type": "execute_result"
    }
   ],
   "source": [
    "metrics.silhouette_score(distance_array, labels)"
   ]
  },
  {
   "cell_type": "code",
   "execution_count": null,
   "id": "7bdc1f68",
   "metadata": {},
   "outputs": [],
   "source": []
  }
 ],
 "metadata": {
  "kernelspec": {
   "display_name": "Python 3",
   "language": "python",
   "name": "python3"
  },
  "language_info": {
   "codemirror_mode": {
    "name": "ipython",
    "version": 3
   },
   "file_extension": ".py",
   "mimetype": "text/x-python",
   "name": "python",
   "nbconvert_exporter": "python",
   "pygments_lexer": "ipython3",
   "version": "3.8.8"
  }
 },
 "nbformat": 4,
 "nbformat_minor": 5
}
